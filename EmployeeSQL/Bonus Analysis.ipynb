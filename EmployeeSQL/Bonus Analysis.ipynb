{
 "cells": [
  {
   "cell_type": "code",
   "execution_count": 1,
   "metadata": {
    "tags": []
   },
   "outputs": [
    {
     "output_type": "stream",
     "name": "stdout",
     "text": "localhost:56318/sql-challenge\n"
    }
   ],
   "source": [
    "#Bonus Analysis\n",
    "#import dependencies\n",
    "from sqlalchemy import create_engine\n",
    "from dotenv import load_dotenv\n",
    "import os\n",
    "#adds variable from environments - need to pip install python-dotenv\n",
    "load_dotenv()\n",
    "#create connection to SQL database using .env file for security\n",
    "database_url = os.environ.get(\"DATABASE_URL\")\n",
    "print(database_url)\n",
    "#engine = create_engine(database_url)\n",
    "#connection = engine.connect()"
   ]
  }
 ],
 "metadata": {
  "kernelspec": {
   "display_name": "Python 3",
   "language": "python",
   "name": "python3"
  },
  "language_info": {
   "codemirror_mode": {
    "name": "ipython",
    "version": 3
   },
   "file_extension": ".py",
   "mimetype": "text/x-python",
   "name": "python",
   "nbconvert_exporter": "python",
   "pygments_lexer": "ipython3",
   "version": "3.7.6-final"
  }
 },
 "nbformat": 4,
 "nbformat_minor": 4
}